{
 "cells": [
  {
   "cell_type": "markdown",
   "id": "e4d1a026",
   "metadata": {},
   "source": [
    "# Basic Operations in Python"
   ]
  },
  {
   "cell_type": "code",
   "execution_count": 6,
   "id": "2b985c75",
   "metadata": {
    "ExecuteTime": {
     "end_time": "2022-11-23T04:50:14.577684Z",
     "start_time": "2022-11-23T04:50:14.553664Z"
    }
   },
   "outputs": [
    {
     "name": "stdout",
     "output_type": "stream",
     "text": [
      "500\n"
     ]
    }
   ],
   "source": [
    "#variable\n",
    "a = 500\n",
    "type(a)\n",
    "print(a)"
   ]
  },
  {
   "cell_type": "code",
   "execution_count": null,
   "id": "cee9e8c9",
   "metadata": {
    "ExecuteTime": {
     "end_time": "2022-11-08T07:47:31.565492Z",
     "start_time": "2022-11-08T07:47:31.546286Z"
    }
   },
   "outputs": [],
   "source": []
  },
  {
   "cell_type": "code",
   "execution_count": null,
   "id": "cfb6d58d",
   "metadata": {
    "ExecuteTime": {
     "end_time": "2022-11-08T05:22:10.685363Z",
     "start_time": "2022-11-08T05:22:10.660886Z"
    }
   },
   "outputs": [],
   "source": []
  },
  {
   "cell_type": "code",
   "execution_count": null,
   "id": "e74d253f",
   "metadata": {
    "ExecuteTime": {
     "end_time": "2022-11-08T07:58:40.666006Z",
     "start_time": "2022-11-08T07:58:40.657931Z"
    }
   },
   "outputs": [],
   "source": [
    "#Arithmetic operators (+,-,*,/,%)"
   ]
  },
  {
   "cell_type": "code",
   "execution_count": 10,
   "id": "60a25df8",
   "metadata": {
    "ExecuteTime": {
     "end_time": "2022-11-23T04:51:55.868051Z",
     "start_time": "2022-11-23T04:51:55.846218Z"
    }
   },
   "outputs": [
    {
     "data": {
      "text/plain": [
       "505"
      ]
     },
     "execution_count": 10,
     "metadata": {},
     "output_type": "execute_result"
    }
   ],
   "source": [
    "b = a+5\n",
    "b"
   ]
  },
  {
   "cell_type": "code",
   "execution_count": 11,
   "id": "eea24328",
   "metadata": {
    "ExecuteTime": {
     "end_time": "2022-11-23T04:52:00.654604Z",
     "start_time": "2022-11-23T04:52:00.641692Z"
    }
   },
   "outputs": [
    {
     "data": {
      "text/plain": [
       "500"
      ]
     },
     "execution_count": 11,
     "metadata": {},
     "output_type": "execute_result"
    }
   ],
   "source": [
    "b-5"
   ]
  },
  {
   "cell_type": "code",
   "execution_count": 12,
   "id": "2170ef19",
   "metadata": {
    "ExecuteTime": {
     "end_time": "2022-11-23T04:52:18.946368Z",
     "start_time": "2022-11-23T04:52:18.936673Z"
    }
   },
   "outputs": [],
   "source": [
    "a = 10\n",
    "b = 20"
   ]
  },
  {
   "cell_type": "code",
   "execution_count": 13,
   "id": "2cad6aeb",
   "metadata": {
    "ExecuteTime": {
     "end_time": "2022-11-23T04:52:49.101358Z",
     "start_time": "2022-11-23T04:52:49.077947Z"
    }
   },
   "outputs": [
    {
     "data": {
      "text/plain": [
       "False"
      ]
     },
     "execution_count": 13,
     "metadata": {},
     "output_type": "execute_result"
    }
   ],
   "source": [
    "a==b"
   ]
  },
  {
   "cell_type": "code",
   "execution_count": 14,
   "id": "b9482fb8",
   "metadata": {
    "ExecuteTime": {
     "end_time": "2022-11-23T04:53:05.406095Z",
     "start_time": "2022-11-23T04:53:05.397289Z"
    }
   },
   "outputs": [
    {
     "data": {
      "text/plain": [
       "True"
      ]
     },
     "execution_count": 14,
     "metadata": {},
     "output_type": "execute_result"
    }
   ],
   "source": [
    "a!=b"
   ]
  },
  {
   "cell_type": "code",
   "execution_count": 15,
   "id": "e0febe9d",
   "metadata": {
    "ExecuteTime": {
     "end_time": "2022-11-23T04:53:24.094407Z",
     "start_time": "2022-11-23T04:53:24.083931Z"
    }
   },
   "outputs": [
    {
     "data": {
      "text/plain": [
       "False"
      ]
     },
     "execution_count": 15,
     "metadata": {},
     "output_type": "execute_result"
    }
   ],
   "source": [
    "a>b"
   ]
  },
  {
   "cell_type": "code",
   "execution_count": 16,
   "id": "fe3c4944",
   "metadata": {
    "ExecuteTime": {
     "end_time": "2022-11-23T04:53:34.875832Z",
     "start_time": "2022-11-23T04:53:34.856824Z"
    }
   },
   "outputs": [
    {
     "data": {
      "text/plain": [
       "True"
      ]
     },
     "execution_count": 16,
     "metadata": {},
     "output_type": "execute_result"
    }
   ],
   "source": [
    "a<b"
   ]
  },
  {
   "cell_type": "code",
   "execution_count": null,
   "id": "998aaefc",
   "metadata": {
    "ExecuteTime": {
     "end_time": "2022-11-08T05:22:10.790080Z",
     "start_time": "2022-11-08T05:22:10.778695Z"
    }
   },
   "outputs": [],
   "source": [
    "#sbdfjkdb\n"
   ]
  },
  {
   "cell_type": "code",
   "execution_count": null,
   "id": "664c2728",
   "metadata": {
    "ExecuteTime": {
     "end_time": "2022-11-08T07:56:37.946515Z",
     "start_time": "2022-11-08T07:56:37.935394Z"
    }
   },
   "outputs": [],
   "source": [
    "#Single line comment"
   ]
  },
  {
   "cell_type": "code",
   "execution_count": null,
   "id": "91c3d50c",
   "metadata": {
    "ExecuteTime": {
     "end_time": "2022-11-08T07:57:12.532295Z",
     "start_time": "2022-11-08T07:57:12.519895Z"
    }
   },
   "outputs": [],
   "source": [
    "'''This is just a note\n",
    "sdhuhcc'''\n"
   ]
  },
  {
   "cell_type": "code",
   "execution_count": null,
   "id": "159d6f1b",
   "metadata": {
    "ExecuteTime": {
     "end_time": "2022-11-08T05:22:10.830523Z",
     "start_time": "2022-11-08T05:22:10.814327Z"
    }
   },
   "outputs": [],
   "source": [
    "#Multi-line comment\n",
    "'''This is python class\n",
    "'''"
   ]
  },
  {
   "cell_type": "markdown",
   "id": "72a732b2",
   "metadata": {},
   "source": [
    "# Data types in python\n",
    "1. Integer\n",
    "2. Float\n",
    "3. String\n",
    "4. Boolean"
   ]
  },
  {
   "cell_type": "code",
   "execution_count": 18,
   "id": "85545b8e",
   "metadata": {
    "ExecuteTime": {
     "end_time": "2022-11-23T04:55:55.547560Z",
     "start_time": "2022-11-23T04:55:55.533355Z"
    }
   },
   "outputs": [
    {
     "name": "stdout",
     "output_type": "stream",
     "text": [
      "<class 'int'>\n"
     ]
    }
   ],
   "source": [
    "#Integer\n",
    "\n",
    "a = 500\n",
    "print(type(a))"
   ]
  },
  {
   "cell_type": "code",
   "execution_count": 19,
   "id": "bdc54922",
   "metadata": {
    "ExecuteTime": {
     "end_time": "2022-11-23T04:56:28.957943Z",
     "start_time": "2022-11-23T04:56:28.946951Z"
    }
   },
   "outputs": [],
   "source": [
    "f = 10.5"
   ]
  },
  {
   "cell_type": "code",
   "execution_count": 20,
   "id": "927ccfe9",
   "metadata": {
    "ExecuteTime": {
     "end_time": "2022-11-23T04:56:32.809605Z",
     "start_time": "2022-11-23T04:56:32.790464Z"
    }
   },
   "outputs": [
    {
     "data": {
      "text/plain": [
       "float"
      ]
     },
     "execution_count": 20,
     "metadata": {},
     "output_type": "execute_result"
    }
   ],
   "source": [
    "type(f)"
   ]
  },
  {
   "cell_type": "code",
   "execution_count": 21,
   "id": "7dd85e20",
   "metadata": {
    "ExecuteTime": {
     "end_time": "2022-11-23T04:57:25.871495Z",
     "start_time": "2022-11-23T04:57:25.856499Z"
    }
   },
   "outputs": [],
   "source": [
    "s = 'This is python class'\n",
    "s1 = \"This is python class\"\n",
    "s2 = '''This is python class'''"
   ]
  },
  {
   "cell_type": "code",
   "execution_count": 22,
   "id": "8c1d4774",
   "metadata": {
    "ExecuteTime": {
     "end_time": "2022-11-23T04:57:49.699805Z",
     "start_time": "2022-11-23T04:57:49.680254Z"
    }
   },
   "outputs": [
    {
     "data": {
      "text/plain": [
       "True"
      ]
     },
     "execution_count": 22,
     "metadata": {},
     "output_type": "execute_result"
    }
   ],
   "source": [
    "s1==s2"
   ]
  },
  {
   "cell_type": "code",
   "execution_count": 26,
   "id": "f2fbad46",
   "metadata": {
    "ExecuteTime": {
     "end_time": "2022-11-23T05:03:12.234608Z",
     "start_time": "2022-11-23T05:03:12.223755Z"
    }
   },
   "outputs": [
    {
     "ename": "SyntaxError",
     "evalue": "invalid syntax (4115986485.py, line 1)",
     "output_type": "error",
     "traceback": [
      "\u001b[1;36m  File \u001b[1;32m\"C:\\Users\\Aishwarya\\AppData\\Local\\Temp\\ipykernel_41076\\4115986485.py\"\u001b[1;36m, line \u001b[1;32m1\u001b[0m\n\u001b[1;33m    d = \"It\"s a notebook\u001b[0m\n\u001b[1;37m            ^\u001b[0m\n\u001b[1;31mSyntaxError\u001b[0m\u001b[1;31m:\u001b[0m invalid syntax\n"
     ]
    }
   ],
   "source": [
    "d = \"It\"s a notebook"
   ]
  },
  {
   "cell_type": "code",
   "execution_count": 24,
   "id": "9b89cdbe",
   "metadata": {
    "ExecuteTime": {
     "end_time": "2022-11-23T05:02:48.065649Z",
     "start_time": "2022-11-23T05:02:48.055209Z"
    }
   },
   "outputs": [],
   "source": [
    "d = \"It's a notebook\""
   ]
  },
  {
   "cell_type": "code",
   "execution_count": 25,
   "id": "95adac3a",
   "metadata": {
    "ExecuteTime": {
     "end_time": "2022-11-23T05:02:54.844383Z",
     "start_time": "2022-11-23T05:02:54.830378Z"
    }
   },
   "outputs": [
    {
     "data": {
      "text/plain": [
       "\"It's a notebook\""
      ]
     },
     "execution_count": 25,
     "metadata": {},
     "output_type": "execute_result"
    }
   ],
   "source": [
    "d"
   ]
  },
  {
   "cell_type": "code",
   "execution_count": null,
   "id": "d8293e11",
   "metadata": {
    "ExecuteTime": {
     "end_time": "2022-11-08T05:22:10.920499Z",
     "start_time": "2022-11-08T05:22:10.913178Z"
    }
   },
   "outputs": [],
   "source": []
  },
  {
   "cell_type": "code",
   "execution_count": null,
   "id": "380065d8",
   "metadata": {
    "ExecuteTime": {
     "end_time": "2022-11-08T08:12:21.106258Z",
     "start_time": "2022-11-08T08:12:21.090625Z"
    }
   },
   "outputs": [],
   "source": [
    "#Title : esc + 1\n",
    "#Markdown : esc + m"
   ]
  },
  {
   "cell_type": "markdown",
   "id": "6c46cfad",
   "metadata": {},
   "source": [
    "# Typecasting\n",
    "\n",
    "- Typecasting is used to change the data types."
   ]
  },
  {
   "cell_type": "code",
   "execution_count": 43,
   "id": "e74aa1ba",
   "metadata": {
    "ExecuteTime": {
     "end_time": "2022-11-23T05:15:29.628261Z",
     "start_time": "2022-11-23T05:15:29.608204Z"
    }
   },
   "outputs": [
    {
     "data": {
      "text/plain": [
       "float"
      ]
     },
     "execution_count": 43,
     "metadata": {},
     "output_type": "execute_result"
    }
   ],
   "source": [
    "a = 10.8\n",
    "type(a)"
   ]
  },
  {
   "cell_type": "code",
   "execution_count": 44,
   "id": "f9f07597",
   "metadata": {
    "ExecuteTime": {
     "end_time": "2022-11-23T05:15:37.463714Z",
     "start_time": "2022-11-23T05:15:37.455339Z"
    }
   },
   "outputs": [
    {
     "data": {
      "text/plain": [
       "10.8"
      ]
     },
     "execution_count": 44,
     "metadata": {},
     "output_type": "execute_result"
    }
   ],
   "source": [
    "a"
   ]
  },
  {
   "cell_type": "code",
   "execution_count": 29,
   "id": "0b1af55a",
   "metadata": {
    "ExecuteTime": {
     "end_time": "2022-11-23T05:10:24.610738Z",
     "start_time": "2022-11-23T05:10:24.601122Z"
    }
   },
   "outputs": [
    {
     "data": {
      "text/plain": [
       "int"
      ]
     },
     "execution_count": 29,
     "metadata": {},
     "output_type": "execute_result"
    }
   ],
   "source": [
    "a = int(a)\n",
    "type(a)"
   ]
  },
  {
   "cell_type": "code",
   "execution_count": 33,
   "id": "13afec71",
   "metadata": {
    "ExecuteTime": {
     "end_time": "2022-11-23T05:11:26.456400Z",
     "start_time": "2022-11-23T05:11:26.438398Z"
    }
   },
   "outputs": [
    {
     "name": "stdout",
     "output_type": "stream",
     "text": [
      "<class 'str'>\n",
      "10\n"
     ]
    }
   ],
   "source": [
    "a = str(a)\n",
    "\n",
    "print(type(a))\n",
    "print(a)"
   ]
  },
  {
   "cell_type": "code",
   "execution_count": 39,
   "id": "30c5f02d",
   "metadata": {
    "ExecuteTime": {
     "end_time": "2022-11-23T05:13:30.980080Z",
     "start_time": "2022-11-23T05:13:30.974256Z"
    }
   },
   "outputs": [],
   "source": [
    "k = 10"
   ]
  },
  {
   "cell_type": "code",
   "execution_count": 40,
   "id": "7dc1f094",
   "metadata": {
    "ExecuteTime": {
     "end_time": "2022-11-23T05:13:42.151472Z",
     "start_time": "2022-11-23T05:13:42.141015Z"
    }
   },
   "outputs": [
    {
     "data": {
      "text/plain": [
       "10.0"
      ]
     },
     "execution_count": 40,
     "metadata": {},
     "output_type": "execute_result"
    }
   ],
   "source": [
    "float(k)"
   ]
  },
  {
   "cell_type": "code",
   "execution_count": 42,
   "id": "99f56053",
   "metadata": {
    "ExecuteTime": {
     "end_time": "2022-11-23T05:15:25.485471Z",
     "start_time": "2022-11-23T05:15:25.463134Z"
    }
   },
   "outputs": [
    {
     "data": {
      "text/plain": [
       "'10'"
      ]
     },
     "execution_count": 42,
     "metadata": {},
     "output_type": "execute_result"
    }
   ],
   "source": [
    "a"
   ]
  },
  {
   "cell_type": "code",
   "execution_count": 34,
   "id": "af76e562",
   "metadata": {
    "ExecuteTime": {
     "end_time": "2022-11-23T05:11:50.511282Z",
     "start_time": "2022-11-23T05:11:50.501824Z"
    }
   },
   "outputs": [
    {
     "data": {
      "text/plain": [
       "'10'"
      ]
     },
     "execution_count": 34,
     "metadata": {},
     "output_type": "execute_result"
    }
   ],
   "source": [
    "a"
   ]
  },
  {
   "cell_type": "code",
   "execution_count": 35,
   "id": "f2fcb76c",
   "metadata": {
    "ExecuteTime": {
     "end_time": "2022-11-23T05:11:58.473139Z",
     "start_time": "2022-11-23T05:11:58.462710Z"
    }
   },
   "outputs": [],
   "source": [
    "b = 500"
   ]
  },
  {
   "cell_type": "code",
   "execution_count": 36,
   "id": "4f7ad132",
   "metadata": {
    "ExecuteTime": {
     "end_time": "2022-11-23T05:12:06.666320Z",
     "start_time": "2022-11-23T05:12:06.652213Z"
    }
   },
   "outputs": [
    {
     "data": {
      "text/plain": [
       "True"
      ]
     },
     "execution_count": 36,
     "metadata": {},
     "output_type": "execute_result"
    }
   ],
   "source": [
    "bool(b)"
   ]
  },
  {
   "cell_type": "code",
   "execution_count": 37,
   "id": "660cab1c",
   "metadata": {
    "ExecuteTime": {
     "end_time": "2022-11-23T05:12:37.758387Z",
     "start_time": "2022-11-23T05:12:37.739999Z"
    }
   },
   "outputs": [],
   "source": [
    "z = 0"
   ]
  },
  {
   "cell_type": "code",
   "execution_count": 38,
   "id": "2e84c187",
   "metadata": {
    "ExecuteTime": {
     "end_time": "2022-11-23T05:12:42.340688Z",
     "start_time": "2022-11-23T05:12:42.331309Z"
    }
   },
   "outputs": [
    {
     "data": {
      "text/plain": [
       "False"
      ]
     },
     "execution_count": 38,
     "metadata": {},
     "output_type": "execute_result"
    }
   ],
   "source": [
    "bool(z)"
   ]
  },
  {
   "cell_type": "code",
   "execution_count": null,
   "id": "0b7dbc55",
   "metadata": {
    "ExecuteTime": {
     "end_time": "2022-11-08T05:22:10.969272Z",
     "start_time": "2022-11-08T05:22:10.957817Z"
    }
   },
   "outputs": [],
   "source": [
    "#We can convert any type of values to bool type, and the output for all values will be True , \n",
    "#Except 0, which is False\n"
   ]
  },
  {
   "cell_type": "markdown",
   "id": "25d2594c",
   "metadata": {},
   "source": [
    "# String methods"
   ]
  },
  {
   "cell_type": "code",
   "execution_count": 47,
   "id": "692d80bf",
   "metadata": {
    "ExecuteTime": {
     "end_time": "2022-11-23T05:19:08.613236Z",
     "start_time": "2022-11-23T05:19:08.594508Z"
    }
   },
   "outputs": [],
   "source": [
    "#Create string\n",
    "s = 'we are learning python'"
   ]
  },
  {
   "cell_type": "code",
   "execution_count": 48,
   "id": "b3df3f10",
   "metadata": {
    "ExecuteTime": {
     "end_time": "2022-11-23T05:19:09.487216Z",
     "start_time": "2022-11-23T05:19:09.472352Z"
    }
   },
   "outputs": [
    {
     "data": {
      "text/plain": [
       "'We are learning python'"
      ]
     },
     "execution_count": 48,
     "metadata": {},
     "output_type": "execute_result"
    }
   ],
   "source": [
    "s.capitalize()"
   ]
  },
  {
   "cell_type": "code",
   "execution_count": null,
   "id": "9b2bde9a",
   "metadata": {
    "ExecuteTime": {
     "end_time": "2022-11-08T08:47:07.136111Z",
     "start_time": "2022-11-08T08:47:07.120873Z"
    }
   },
   "outputs": [],
   "source": [
    "a = \"It's a laptop\""
   ]
  },
  {
   "cell_type": "code",
   "execution_count": null,
   "id": "8f261d39",
   "metadata": {
    "ExecuteTime": {
     "end_time": "2022-11-08T08:47:08.329575Z",
     "start_time": "2022-11-08T08:47:08.319870Z"
    }
   },
   "outputs": [],
   "source": [
    "b = 'It\"s a laptop'"
   ]
  },
  {
   "cell_type": "code",
   "execution_count": null,
   "id": "90e758e9",
   "metadata": {
    "ExecuteTime": {
     "end_time": "2022-11-08T08:47:11.894891Z",
     "start_time": "2022-11-08T08:47:11.885669Z"
    }
   },
   "outputs": [],
   "source": [
    "a==b"
   ]
  },
  {
   "cell_type": "code",
   "execution_count": null,
   "id": "6498f994",
   "metadata": {
    "ExecuteTime": {
     "end_time": "2022-11-08T08:22:59.976419Z",
     "start_time": "2022-11-08T08:22:59.956447Z"
    }
   },
   "outputs": [],
   "source": [
    "s"
   ]
  },
  {
   "cell_type": "code",
   "execution_count": 49,
   "id": "5c20c797",
   "metadata": {
    "ExecuteTime": {
     "end_time": "2022-11-23T05:20:47.604009Z",
     "start_time": "2022-11-23T05:20:47.594914Z"
    }
   },
   "outputs": [
    {
     "data": {
      "text/plain": [
       "'We are learning python'"
      ]
     },
     "execution_count": 49,
     "metadata": {},
     "output_type": "execute_result"
    }
   ],
   "source": [
    "s.capitalize()"
   ]
  },
  {
   "cell_type": "code",
   "execution_count": 50,
   "id": "63671542",
   "metadata": {
    "ExecuteTime": {
     "end_time": "2022-11-23T05:20:58.702360Z",
     "start_time": "2022-11-23T05:20:58.686375Z"
    }
   },
   "outputs": [
    {
     "data": {
      "text/plain": [
       "'we are learning python'"
      ]
     },
     "execution_count": 50,
     "metadata": {},
     "output_type": "execute_result"
    }
   ],
   "source": [
    "s"
   ]
  },
  {
   "cell_type": "code",
   "execution_count": 53,
   "id": "6122e0b5",
   "metadata": {
    "ExecuteTime": {
     "end_time": "2022-11-23T05:22:57.169612Z",
     "start_time": "2022-11-23T05:22:57.161425Z"
    }
   },
   "outputs": [
    {
     "data": {
      "text/plain": [
       "1"
      ]
     },
     "execution_count": 53,
     "metadata": {},
     "output_type": "execute_result"
    }
   ],
   "source": [
    "s.count('i')"
   ]
  },
  {
   "cell_type": "code",
   "execution_count": 54,
   "id": "ac834ae8",
   "metadata": {
    "ExecuteTime": {
     "end_time": "2022-11-23T05:22:57.574528Z",
     "start_time": "2022-11-23T05:22:57.554175Z"
    }
   },
   "outputs": [
    {
     "data": {
      "text/plain": [
       "3"
      ]
     },
     "execution_count": 54,
     "metadata": {},
     "output_type": "execute_result"
    }
   ],
   "source": [
    "s.count('e')"
   ]
  },
  {
   "cell_type": "code",
   "execution_count": null,
   "id": "574edfab",
   "metadata": {
    "ExecuteTime": {
     "end_time": "2022-11-08T08:29:21.772059Z",
     "start_time": "2022-11-08T08:29:21.757561Z"
    }
   },
   "outputs": [],
   "source": [
    "s"
   ]
  },
  {
   "cell_type": "code",
   "execution_count": 55,
   "id": "5a6e1bad",
   "metadata": {
    "ExecuteTime": {
     "end_time": "2022-11-23T05:23:34.490312Z",
     "start_time": "2022-11-23T05:23:34.477365Z"
    }
   },
   "outputs": [
    {
     "data": {
      "text/plain": [
       "False"
      ]
     },
     "execution_count": 55,
     "metadata": {},
     "output_type": "execute_result"
    }
   ],
   "source": [
    "s.endswith('N')"
   ]
  },
  {
   "cell_type": "code",
   "execution_count": 56,
   "id": "96b5493e",
   "metadata": {
    "ExecuteTime": {
     "end_time": "2022-11-23T05:23:41.450515Z",
     "start_time": "2022-11-23T05:23:41.438483Z"
    }
   },
   "outputs": [
    {
     "data": {
      "text/plain": [
       "True"
      ]
     },
     "execution_count": 56,
     "metadata": {},
     "output_type": "execute_result"
    }
   ],
   "source": [
    "s.endswith('n')"
   ]
  },
  {
   "cell_type": "code",
   "execution_count": null,
   "id": "baafb102",
   "metadata": {
    "ExecuteTime": {
     "end_time": "2022-11-08T08:31:28.620429Z",
     "start_time": "2022-11-08T08:31:28.608752Z"
    }
   },
   "outputs": [],
   "source": [
    "s"
   ]
  },
  {
   "cell_type": "code",
   "execution_count": 57,
   "id": "f3209c8e",
   "metadata": {
    "ExecuteTime": {
     "end_time": "2022-11-23T05:24:19.908840Z",
     "start_time": "2022-11-23T05:24:19.903048Z"
    }
   },
   "outputs": [
    {
     "data": {
      "text/plain": [
       "3"
      ]
     },
     "execution_count": 57,
     "metadata": {},
     "output_type": "execute_result"
    }
   ],
   "source": [
    "s.find('are')"
   ]
  },
  {
   "cell_type": "code",
   "execution_count": 61,
   "id": "b52f85af",
   "metadata": {
    "ExecuteTime": {
     "end_time": "2022-11-23T05:25:45.852028Z",
     "start_time": "2022-11-23T05:25:45.832969Z"
    }
   },
   "outputs": [],
   "source": [
    "s = 'We are learning python'"
   ]
  },
  {
   "cell_type": "code",
   "execution_count": 59,
   "id": "1c83cfa6",
   "metadata": {
    "ExecuteTime": {
     "end_time": "2022-11-23T05:25:05.922038Z",
     "start_time": "2022-11-23T05:25:05.910237Z"
    }
   },
   "outputs": [
    {
     "data": {
      "text/plain": [
       "16"
      ]
     },
     "execution_count": 59,
     "metadata": {},
     "output_type": "execute_result"
    }
   ],
   "source": [
    "s.index('p')"
   ]
  },
  {
   "cell_type": "code",
   "execution_count": 62,
   "id": "cdb46bc1",
   "metadata": {
    "ExecuteTime": {
     "end_time": "2022-11-23T05:25:53.387372Z",
     "start_time": "2022-11-23T05:25:53.370904Z"
    }
   },
   "outputs": [
    {
     "data": {
      "text/plain": [
       "False"
      ]
     },
     "execution_count": 62,
     "metadata": {},
     "output_type": "execute_result"
    }
   ],
   "source": [
    "s.islower()"
   ]
  },
  {
   "cell_type": "code",
   "execution_count": 67,
   "id": "8a1daf0a",
   "metadata": {
    "ExecuteTime": {
     "end_time": "2022-11-23T05:28:25.211271Z",
     "start_time": "2022-11-23T05:28:25.189412Z"
    }
   },
   "outputs": [
    {
     "data": {
      "text/plain": [
       "'W#e# #a#r#e# #l#e#a#r#n#i#n#g# #p#y#t#h#o#n'"
      ]
     },
     "execution_count": 67,
     "metadata": {},
     "output_type": "execute_result"
    }
   ],
   "source": [
    "'#'.join(s)"
   ]
  },
  {
   "cell_type": "code",
   "execution_count": 68,
   "id": "68169690",
   "metadata": {
    "ExecuteTime": {
     "end_time": "2022-11-23T05:28:30.820250Z",
     "start_time": "2022-11-23T05:28:30.809895Z"
    }
   },
   "outputs": [
    {
     "data": {
      "text/plain": [
       "'We are learning python'"
      ]
     },
     "execution_count": 68,
     "metadata": {},
     "output_type": "execute_result"
    }
   ],
   "source": [
    "s"
   ]
  },
  {
   "cell_type": "code",
   "execution_count": 70,
   "id": "0ede6c13",
   "metadata": {
    "ExecuteTime": {
     "end_time": "2022-11-23T05:31:07.988835Z",
     "start_time": "2022-11-23T05:31:07.973142Z"
    }
   },
   "outputs": [],
   "source": [
    "s = s.replace(' ','-')"
   ]
  },
  {
   "cell_type": "code",
   "execution_count": 71,
   "id": "1091ce76",
   "metadata": {
    "ExecuteTime": {
     "end_time": "2022-11-23T05:31:10.395918Z",
     "start_time": "2022-11-23T05:31:10.377200Z"
    }
   },
   "outputs": [
    {
     "data": {
      "text/plain": [
       "'We-are-learning-python'"
      ]
     },
     "execution_count": 71,
     "metadata": {},
     "output_type": "execute_result"
    }
   ],
   "source": [
    "s"
   ]
  },
  {
   "cell_type": "code",
   "execution_count": 72,
   "id": "4787d34a",
   "metadata": {
    "ExecuteTime": {
     "end_time": "2022-11-23T05:31:30.870299Z",
     "start_time": "2022-11-23T05:31:30.859461Z"
    }
   },
   "outputs": [
    {
     "data": {
      "text/plain": [
       "'They-are-learning-python'"
      ]
     },
     "execution_count": 72,
     "metadata": {},
     "output_type": "execute_result"
    }
   ],
   "source": [
    "s.replace('We', 'They')"
   ]
  },
  {
   "cell_type": "code",
   "execution_count": 73,
   "id": "74c14e4b",
   "metadata": {
    "ExecuteTime": {
     "end_time": "2022-11-23T05:31:33.598629Z",
     "start_time": "2022-11-23T05:31:33.580683Z"
    }
   },
   "outputs": [],
   "source": [
    "s = s.replace('-','#')"
   ]
  },
  {
   "cell_type": "code",
   "execution_count": 74,
   "id": "29603076",
   "metadata": {
    "ExecuteTime": {
     "end_time": "2022-11-23T05:31:34.125153Z",
     "start_time": "2022-11-23T05:31:34.107601Z"
    }
   },
   "outputs": [
    {
     "data": {
      "text/plain": [
       "'We#are#learning#python'"
      ]
     },
     "execution_count": 74,
     "metadata": {},
     "output_type": "execute_result"
    }
   ],
   "source": [
    "s"
   ]
  },
  {
   "cell_type": "code",
   "execution_count": 87,
   "id": "718144e8",
   "metadata": {
    "ExecuteTime": {
     "end_time": "2022-11-23T05:48:25.775287Z",
     "start_time": "2022-11-23T05:48:25.759064Z"
    }
   },
   "outputs": [],
   "source": [
    "s = 'We/are/learning/python'"
   ]
  },
  {
   "cell_type": "code",
   "execution_count": 88,
   "id": "c26137c1",
   "metadata": {
    "ExecuteTime": {
     "end_time": "2022-11-23T05:48:39.555399Z",
     "start_time": "2022-11-23T05:48:39.534189Z"
    }
   },
   "outputs": [
    {
     "data": {
      "text/plain": [
       "['We', 'are', 'learning', 'python']"
      ]
     },
     "execution_count": 88,
     "metadata": {},
     "output_type": "execute_result"
    }
   ],
   "source": [
    "s.split('/')"
   ]
  },
  {
   "cell_type": "code",
   "execution_count": 76,
   "id": "e0b71753",
   "metadata": {
    "ExecuteTime": {
     "end_time": "2022-11-23T05:36:31.972922Z",
     "start_time": "2022-11-23T05:36:31.965296Z"
    }
   },
   "outputs": [
    {
     "data": {
      "text/plain": [
       "['We', 'are', 'learning', 'python']"
      ]
     },
     "execution_count": 76,
     "metadata": {},
     "output_type": "execute_result"
    }
   ],
   "source": [
    "s.split('#')"
   ]
  },
  {
   "cell_type": "code",
   "execution_count": 78,
   "id": "4eb5ee11",
   "metadata": {
    "ExecuteTime": {
     "end_time": "2022-11-23T05:39:55.775205Z",
     "start_time": "2022-11-23T05:39:55.767362Z"
    }
   },
   "outputs": [],
   "source": [
    "q = 'abc@gmail.com'"
   ]
  },
  {
   "cell_type": "code",
   "execution_count": 79,
   "id": "107cb9c8",
   "metadata": {
    "ExecuteTime": {
     "end_time": "2022-11-23T05:39:56.223212Z",
     "start_time": "2022-11-23T05:39:56.206004Z"
    }
   },
   "outputs": [
    {
     "data": {
      "text/plain": [
       "['abc', 'gmail.com']"
      ]
     },
     "execution_count": 79,
     "metadata": {},
     "output_type": "execute_result"
    }
   ],
   "source": [
    "q.split('@')"
   ]
  },
  {
   "cell_type": "code",
   "execution_count": null,
   "id": "d555d233",
   "metadata": {
    "ExecuteTime": {
     "end_time": "2022-11-08T08:44:22.168987Z",
     "start_time": "2022-11-08T08:44:22.151317Z"
    }
   },
   "outputs": [],
   "source": [
    "s"
   ]
  },
  {
   "cell_type": "code",
   "execution_count": 80,
   "id": "7dc66dee",
   "metadata": {
    "ExecuteTime": {
     "end_time": "2022-11-23T05:41:03.624430Z",
     "start_time": "2022-11-23T05:41:03.599307Z"
    }
   },
   "outputs": [
    {
     "data": {
      "text/plain": [
       "'We are learning python'"
      ]
     },
     "execution_count": 80,
     "metadata": {},
     "output_type": "execute_result"
    }
   ],
   "source": [
    "s = 'We are learning python'\n",
    "s"
   ]
  },
  {
   "cell_type": "code",
   "execution_count": 81,
   "id": "79c9ffa6",
   "metadata": {
    "ExecuteTime": {
     "end_time": "2022-11-23T05:41:15.057035Z",
     "start_time": "2022-11-23T05:41:15.037013Z"
    }
   },
   "outputs": [
    {
     "data": {
      "text/plain": [
       "'wE ARE LEARNING PYTHON'"
      ]
     },
     "execution_count": 81,
     "metadata": {},
     "output_type": "execute_result"
    }
   ],
   "source": [
    "s.swapcase()"
   ]
  },
  {
   "cell_type": "code",
   "execution_count": 82,
   "id": "4f210d86",
   "metadata": {
    "ExecuteTime": {
     "end_time": "2022-11-23T05:41:26.971535Z",
     "start_time": "2022-11-23T05:41:26.959333Z"
    }
   },
   "outputs": [
    {
     "data": {
      "text/plain": [
       "'WE ARE LEARNING PYTHON'"
      ]
     },
     "execution_count": 82,
     "metadata": {},
     "output_type": "execute_result"
    }
   ],
   "source": [
    "s.upper()"
   ]
  },
  {
   "cell_type": "code",
   "execution_count": 83,
   "id": "1bb16fb7",
   "metadata": {
    "ExecuteTime": {
     "end_time": "2022-11-23T05:41:34.023174Z",
     "start_time": "2022-11-23T05:41:33.997875Z"
    }
   },
   "outputs": [
    {
     "data": {
      "text/plain": [
       "'we are learning python'"
      ]
     },
     "execution_count": 83,
     "metadata": {},
     "output_type": "execute_result"
    }
   ],
   "source": [
    "s.lower()"
   ]
  },
  {
   "cell_type": "code",
   "execution_count": 84,
   "id": "cfe1ad7e",
   "metadata": {
    "ExecuteTime": {
     "end_time": "2022-11-23T05:41:37.428538Z",
     "start_time": "2022-11-23T05:41:37.417012Z"
    }
   },
   "outputs": [
    {
     "data": {
      "text/plain": [
       "'We Are Learning Python'"
      ]
     },
     "execution_count": 84,
     "metadata": {},
     "output_type": "execute_result"
    }
   ],
   "source": [
    "s.title()"
   ]
  },
  {
   "cell_type": "markdown",
   "id": "48220fa4",
   "metadata": {},
   "source": [
    "# Data Structures\n",
    "1. Lists\n",
    "2. Tuple\n",
    "3. Dictionary\n",
    "4. Sets"
   ]
  },
  {
   "cell_type": "markdown",
   "id": "78753086",
   "metadata": {},
   "source": [
    "**Lists**\n",
    "\n",
    "- Lists are the built in data structures in python.\n",
    "- Lists are heterogenous data structure.\n",
    "- Lists are mutable."
   ]
  },
  {
   "cell_type": "code",
   "execution_count": 1,
   "id": "8417c924",
   "metadata": {
    "ExecuteTime": {
     "end_time": "2022-11-24T04:42:11.924345Z",
     "start_time": "2022-11-24T04:42:11.912028Z"
    }
   },
   "outputs": [],
   "source": [
    "#Creating lists"
   ]
  },
  {
   "cell_type": "code",
   "execution_count": 2,
   "id": "f1570c8d",
   "metadata": {
    "ExecuteTime": {
     "end_time": "2022-11-24T04:42:36.979136Z",
     "start_time": "2022-11-24T04:42:36.942170Z"
    }
   },
   "outputs": [],
   "source": [
    "lst = []"
   ]
  },
  {
   "cell_type": "code",
   "execution_count": 3,
   "id": "3f4790ef",
   "metadata": {
    "ExecuteTime": {
     "end_time": "2022-11-24T04:42:46.975062Z",
     "start_time": "2022-11-24T04:42:46.952216Z"
    }
   },
   "outputs": [
    {
     "data": {
      "text/plain": [
       "list"
      ]
     },
     "execution_count": 3,
     "metadata": {},
     "output_type": "execute_result"
    }
   ],
   "source": [
    "type(lst)"
   ]
  },
  {
   "cell_type": "code",
   "execution_count": 4,
   "id": "f9c33b74",
   "metadata": {
    "ExecuteTime": {
     "end_time": "2022-11-24T04:43:46.964709Z",
     "start_time": "2022-11-24T04:43:46.956429Z"
    }
   },
   "outputs": [],
   "source": [
    "lst = [10,10.5,True,'Hello']"
   ]
  },
  {
   "cell_type": "code",
   "execution_count": 5,
   "id": "45d18cee",
   "metadata": {
    "ExecuteTime": {
     "end_time": "2022-11-24T04:43:57.957454Z",
     "start_time": "2022-11-24T04:43:57.943203Z"
    }
   },
   "outputs": [
    {
     "data": {
      "text/plain": [
       "[10, 10.5, True, 'Hello']"
      ]
     },
     "execution_count": 5,
     "metadata": {},
     "output_type": "execute_result"
    }
   ],
   "source": [
    "lst"
   ]
  },
  {
   "cell_type": "code",
   "execution_count": 6,
   "id": "aeca25ca",
   "metadata": {
    "ExecuteTime": {
     "end_time": "2022-11-24T04:44:20.321793Z",
     "start_time": "2022-11-24T04:44:20.305763Z"
    }
   },
   "outputs": [
    {
     "data": {
      "text/plain": [
       "list"
      ]
     },
     "execution_count": 6,
     "metadata": {},
     "output_type": "execute_result"
    }
   ],
   "source": [
    "type(lst)"
   ]
  },
  {
   "cell_type": "code",
   "execution_count": 7,
   "id": "c70d8c8d",
   "metadata": {
    "ExecuteTime": {
     "end_time": "2022-11-24T04:44:44.086822Z",
     "start_time": "2022-11-24T04:44:44.067772Z"
    }
   },
   "outputs": [],
   "source": [
    "lst1 = list()"
   ]
  },
  {
   "cell_type": "code",
   "execution_count": 8,
   "id": "889a75de",
   "metadata": {
    "ExecuteTime": {
     "end_time": "2022-11-24T04:44:48.708606Z",
     "start_time": "2022-11-24T04:44:48.697823Z"
    }
   },
   "outputs": [
    {
     "data": {
      "text/plain": [
       "list"
      ]
     },
     "execution_count": 8,
     "metadata": {},
     "output_type": "execute_result"
    }
   ],
   "source": [
    "type(lst1)"
   ]
  },
  {
   "cell_type": "code",
   "execution_count": 9,
   "id": "798fca46",
   "metadata": {
    "ExecuteTime": {
     "end_time": "2022-11-24T04:50:37.727546Z",
     "start_time": "2022-11-24T04:50:37.709504Z"
    }
   },
   "outputs": [
    {
     "data": {
      "text/plain": [
       "[10, 10.5, True, 'Hello']"
      ]
     },
     "execution_count": 9,
     "metadata": {},
     "output_type": "execute_result"
    }
   ],
   "source": [
    "lst"
   ]
  },
  {
   "cell_type": "code",
   "execution_count": 10,
   "id": "0ae2e07b",
   "metadata": {
    "ExecuteTime": {
     "end_time": "2022-11-24T04:51:44.699174Z",
     "start_time": "2022-11-24T04:51:44.679016Z"
    }
   },
   "outputs": [
    {
     "data": {
      "text/plain": [
       "'Hello'"
      ]
     },
     "execution_count": 10,
     "metadata": {},
     "output_type": "execute_result"
    }
   ],
   "source": [
    "#Accessing elements from a list\n",
    "lst[3]"
   ]
  },
  {
   "cell_type": "code",
   "execution_count": 12,
   "id": "def7bd1a",
   "metadata": {
    "ExecuteTime": {
     "end_time": "2022-11-24T04:52:48.466760Z",
     "start_time": "2022-11-24T04:52:48.452847Z"
    }
   },
   "outputs": [
    {
     "data": {
      "text/plain": [
       "[10.5, True]"
      ]
     },
     "execution_count": 12,
     "metadata": {},
     "output_type": "execute_result"
    }
   ],
   "source": [
    "lst[1:3]"
   ]
  },
  {
   "cell_type": "code",
   "execution_count": 13,
   "id": "f592a328",
   "metadata": {
    "ExecuteTime": {
     "end_time": "2022-11-24T04:53:36.838980Z",
     "start_time": "2022-11-24T04:53:36.818905Z"
    }
   },
   "outputs": [
    {
     "data": {
      "text/plain": [
       "'Hello'"
      ]
     },
     "execution_count": 13,
     "metadata": {},
     "output_type": "execute_result"
    }
   ],
   "source": [
    "lst[-1]"
   ]
  },
  {
   "cell_type": "code",
   "execution_count": null,
   "id": "405e6788",
   "metadata": {
    "ExecuteTime": {
     "end_time": "2022-11-08T05:22:11.637465Z",
     "start_time": "2022-11-08T05:22:11.621460Z"
    }
   },
   "outputs": [],
   "source": [
    "#append"
   ]
  },
  {
   "cell_type": "code",
   "execution_count": 14,
   "id": "6fbff13b",
   "metadata": {
    "ExecuteTime": {
     "end_time": "2022-11-24T04:55:26.118831Z",
     "start_time": "2022-11-24T04:55:26.102527Z"
    }
   },
   "outputs": [],
   "source": [
    "lst.append(1000)"
   ]
  },
  {
   "cell_type": "code",
   "execution_count": 15,
   "id": "720c98ae",
   "metadata": {
    "ExecuteTime": {
     "end_time": "2022-11-24T04:55:30.939792Z",
     "start_time": "2022-11-24T04:55:30.918003Z"
    }
   },
   "outputs": [
    {
     "data": {
      "text/plain": [
       "[10, 10.5, True, 'Hello', 1000]"
      ]
     },
     "execution_count": 15,
     "metadata": {},
     "output_type": "execute_result"
    }
   ],
   "source": [
    "lst"
   ]
  },
  {
   "cell_type": "code",
   "execution_count": null,
   "id": "3b379bef",
   "metadata": {
    "ExecuteTime": {
     "end_time": "2022-11-08T05:22:11.685487Z",
     "start_time": "2022-11-08T05:22:11.669466Z"
    }
   },
   "outputs": [],
   "source": [
    "#Count "
   ]
  },
  {
   "cell_type": "code",
   "execution_count": 16,
   "id": "41e60574",
   "metadata": {
    "ExecuteTime": {
     "end_time": "2022-11-24T04:56:07.875399Z",
     "start_time": "2022-11-24T04:56:07.868865Z"
    }
   },
   "outputs": [
    {
     "data": {
      "text/plain": [
       "1"
      ]
     },
     "execution_count": 16,
     "metadata": {},
     "output_type": "execute_result"
    }
   ],
   "source": [
    "lst.count(1000)"
   ]
  },
  {
   "cell_type": "code",
   "execution_count": 17,
   "id": "50b3587b",
   "metadata": {
    "ExecuteTime": {
     "end_time": "2022-11-24T04:56:15.320636Z",
     "start_time": "2022-11-24T04:56:15.306406Z"
    }
   },
   "outputs": [
    {
     "data": {
      "text/plain": [
       "0"
      ]
     },
     "execution_count": 17,
     "metadata": {},
     "output_type": "execute_result"
    }
   ],
   "source": [
    "lst.count(50)"
   ]
  },
  {
   "cell_type": "code",
   "execution_count": null,
   "id": "d6b0a78f",
   "metadata": {
    "ExecuteTime": {
     "end_time": "2022-11-08T05:22:11.717493Z",
     "start_time": "2022-11-08T05:22:11.693492Z"
    }
   },
   "outputs": [],
   "source": [
    "#Index"
   ]
  },
  {
   "cell_type": "code",
   "execution_count": 18,
   "id": "04130f5c",
   "metadata": {
    "ExecuteTime": {
     "end_time": "2022-11-24T04:56:42.675493Z",
     "start_time": "2022-11-24T04:56:42.654143Z"
    }
   },
   "outputs": [
    {
     "data": {
      "text/plain": [
       "1"
      ]
     },
     "execution_count": 18,
     "metadata": {},
     "output_type": "execute_result"
    }
   ],
   "source": [
    "lst.index(10.5)"
   ]
  },
  {
   "cell_type": "code",
   "execution_count": 19,
   "id": "b4a0e37c",
   "metadata": {
    "ExecuteTime": {
     "end_time": "2022-11-24T04:57:31.042437Z",
     "start_time": "2022-11-24T04:57:31.017294Z"
    }
   },
   "outputs": [
    {
     "data": {
      "text/plain": [
       "[10, 10.5, True, 'Hello', 1000]"
      ]
     },
     "execution_count": 19,
     "metadata": {},
     "output_type": "execute_result"
    }
   ],
   "source": [
    "lst"
   ]
  },
  {
   "cell_type": "code",
   "execution_count": null,
   "id": "ec790de7",
   "metadata": {
    "ExecuteTime": {
     "end_time": "2022-11-08T05:22:11.733495Z",
     "start_time": "2022-11-08T05:22:11.717493Z"
    }
   },
   "outputs": [],
   "source": [
    "#Insert"
   ]
  },
  {
   "cell_type": "code",
   "execution_count": 20,
   "id": "45aac18b",
   "metadata": {
    "ExecuteTime": {
     "end_time": "2022-11-24T04:57:47.235675Z",
     "start_time": "2022-11-24T04:57:47.216996Z"
    }
   },
   "outputs": [],
   "source": [
    "lst.insert(0,50)"
   ]
  },
  {
   "cell_type": "code",
   "execution_count": 21,
   "id": "7bb906d0",
   "metadata": {
    "ExecuteTime": {
     "end_time": "2022-11-24T04:57:49.525645Z",
     "start_time": "2022-11-24T04:57:49.505829Z"
    }
   },
   "outputs": [
    {
     "data": {
      "text/plain": [
       "[50, 10, 10.5, True, 'Hello', 1000]"
      ]
     },
     "execution_count": 21,
     "metadata": {},
     "output_type": "execute_result"
    }
   ],
   "source": [
    "lst"
   ]
  },
  {
   "cell_type": "code",
   "execution_count": null,
   "id": "cc3629cb",
   "metadata": {
    "ExecuteTime": {
     "end_time": "2022-11-08T05:22:11.765814Z",
     "start_time": "2022-11-08T05:22:11.749709Z"
    }
   },
   "outputs": [],
   "source": [
    "#pop"
   ]
  },
  {
   "cell_type": "code",
   "execution_count": 22,
   "id": "5fd7d1ba",
   "metadata": {
    "ExecuteTime": {
     "end_time": "2022-11-24T04:58:39.058801Z",
     "start_time": "2022-11-24T04:58:39.039493Z"
    }
   },
   "outputs": [
    {
     "data": {
      "text/plain": [
       "1000"
      ]
     },
     "execution_count": 22,
     "metadata": {},
     "output_type": "execute_result"
    }
   ],
   "source": [
    "lst.pop()"
   ]
  },
  {
   "cell_type": "code",
   "execution_count": 23,
   "id": "6ab33471",
   "metadata": {
    "ExecuteTime": {
     "end_time": "2022-11-24T04:58:43.390825Z",
     "start_time": "2022-11-24T04:58:43.379106Z"
    }
   },
   "outputs": [
    {
     "data": {
      "text/plain": [
       "[50, 10, 10.5, True, 'Hello']"
      ]
     },
     "execution_count": 23,
     "metadata": {},
     "output_type": "execute_result"
    }
   ],
   "source": [
    "lst"
   ]
  },
  {
   "cell_type": "code",
   "execution_count": null,
   "id": "041ea0f3",
   "metadata": {
    "ExecuteTime": {
     "end_time": "2022-11-08T05:22:11.806220Z",
     "start_time": "2022-11-08T05:22:11.791733Z"
    }
   },
   "outputs": [],
   "source": [
    "#reverse"
   ]
  },
  {
   "cell_type": "code",
   "execution_count": 24,
   "id": "f3bdbd28",
   "metadata": {
    "ExecuteTime": {
     "end_time": "2022-11-24T05:00:28.494926Z",
     "start_time": "2022-11-24T05:00:28.487186Z"
    }
   },
   "outputs": [],
   "source": [
    "lst.reverse()"
   ]
  },
  {
   "cell_type": "code",
   "execution_count": 25,
   "id": "88092c1b",
   "metadata": {
    "ExecuteTime": {
     "end_time": "2022-11-24T05:00:31.276738Z",
     "start_time": "2022-11-24T05:00:31.254800Z"
    }
   },
   "outputs": [
    {
     "data": {
      "text/plain": [
       "['Hello', True, 10.5, 10, 50]"
      ]
     },
     "execution_count": 25,
     "metadata": {},
     "output_type": "execute_result"
    }
   ],
   "source": [
    "lst"
   ]
  },
  {
   "cell_type": "code",
   "execution_count": null,
   "id": "e5a6f491",
   "metadata": {
    "ExecuteTime": {
     "end_time": "2022-11-08T05:22:11.839437Z",
     "start_time": "2022-11-08T05:22:11.827602Z"
    }
   },
   "outputs": [],
   "source": [
    "#remove"
   ]
  },
  {
   "cell_type": "code",
   "execution_count": 26,
   "id": "d079c056",
   "metadata": {
    "ExecuteTime": {
     "end_time": "2022-11-24T05:01:02.456428Z",
     "start_time": "2022-11-24T05:01:02.438533Z"
    }
   },
   "outputs": [],
   "source": [
    "lst.remove(10.5)"
   ]
  },
  {
   "cell_type": "code",
   "execution_count": 27,
   "id": "8e316c6c",
   "metadata": {
    "ExecuteTime": {
     "end_time": "2022-11-24T05:01:04.819304Z",
     "start_time": "2022-11-24T05:01:04.805289Z"
    }
   },
   "outputs": [
    {
     "data": {
      "text/plain": [
       "['Hello', True, 10, 50]"
      ]
     },
     "execution_count": 27,
     "metadata": {},
     "output_type": "execute_result"
    }
   ],
   "source": [
    "lst"
   ]
  },
  {
   "cell_type": "code",
   "execution_count": null,
   "id": "2c6eb636",
   "metadata": {
    "ExecuteTime": {
     "end_time": "2022-11-08T05:22:11.896980Z",
     "start_time": "2022-11-08T05:22:11.884445Z"
    }
   },
   "outputs": [],
   "source": [
    "#Replacing elements in lists"
   ]
  },
  {
   "cell_type": "code",
   "execution_count": 29,
   "id": "521b8b04",
   "metadata": {
    "ExecuteTime": {
     "end_time": "2022-11-24T05:02:41.999188Z",
     "start_time": "2022-11-24T05:02:41.984696Z"
    }
   },
   "outputs": [],
   "source": [
    "lst[1] = False"
   ]
  },
  {
   "cell_type": "code",
   "execution_count": 30,
   "id": "1191f014",
   "metadata": {
    "ExecuteTime": {
     "end_time": "2022-11-24T05:03:15.405201Z",
     "start_time": "2022-11-24T05:03:15.392842Z"
    }
   },
   "outputs": [
    {
     "data": {
      "text/plain": [
       "['Hello', False, 10, 50]"
      ]
     },
     "execution_count": 30,
     "metadata": {},
     "output_type": "execute_result"
    }
   ],
   "source": [
    "lst"
   ]
  },
  {
   "cell_type": "code",
   "execution_count": 31,
   "id": "7c1502ae",
   "metadata": {
    "ExecuteTime": {
     "end_time": "2022-11-24T05:03:36.947900Z",
     "start_time": "2022-11-24T05:03:36.943582Z"
    }
   },
   "outputs": [],
   "source": [
    "lst[-1] = 5000"
   ]
  },
  {
   "cell_type": "code",
   "execution_count": 33,
   "id": "e1308923",
   "metadata": {
    "ExecuteTime": {
     "end_time": "2022-11-24T05:03:43.031015Z",
     "start_time": "2022-11-24T05:03:43.014735Z"
    }
   },
   "outputs": [
    {
     "data": {
      "text/plain": [
       "['Hello', False, 10, 5000]"
      ]
     },
     "execution_count": 33,
     "metadata": {},
     "output_type": "execute_result"
    }
   ],
   "source": [
    "lst"
   ]
  },
  {
   "cell_type": "markdown",
   "id": "5dbba063",
   "metadata": {},
   "source": [
    "**Tuple**\n",
    "\n",
    "- Tuples are ordered and heterogenous data structure.\n",
    "- Tuples are immutable."
   ]
  },
  {
   "cell_type": "code",
   "execution_count": 36,
   "id": "174d82a7",
   "metadata": {
    "ExecuteTime": {
     "end_time": "2022-11-24T05:25:41.901913Z",
     "start_time": "2022-11-24T05:25:41.892892Z"
    }
   },
   "outputs": [],
   "source": [
    "#Create a tuple\n",
    "\n",
    "t = (10,1.2,'Hi',1000,15.2)"
   ]
  },
  {
   "cell_type": "code",
   "execution_count": 37,
   "id": "52b0c1d4",
   "metadata": {
    "ExecuteTime": {
     "end_time": "2022-11-24T05:25:43.999345Z",
     "start_time": "2022-11-24T05:25:43.985178Z"
    }
   },
   "outputs": [
    {
     "data": {
      "text/plain": [
       "tuple"
      ]
     },
     "execution_count": 37,
     "metadata": {},
     "output_type": "execute_result"
    }
   ],
   "source": [
    "type(t)"
   ]
  },
  {
   "cell_type": "code",
   "execution_count": 38,
   "id": "9d6cc3a9",
   "metadata": {
    "ExecuteTime": {
     "end_time": "2022-11-24T05:25:45.674135Z",
     "start_time": "2022-11-24T05:25:45.658541Z"
    }
   },
   "outputs": [
    {
     "data": {
      "text/plain": [
       "(10, 1.2, 'Hi', 1000, 15.2)"
      ]
     },
     "execution_count": 38,
     "metadata": {},
     "output_type": "execute_result"
    }
   ],
   "source": [
    "t"
   ]
  },
  {
   "cell_type": "code",
   "execution_count": 39,
   "id": "5b616bb0",
   "metadata": {
    "ExecuteTime": {
     "end_time": "2022-11-24T05:26:34.604167Z",
     "start_time": "2022-11-24T05:26:34.590031Z"
    }
   },
   "outputs": [
    {
     "data": {
      "text/plain": [
       "1"
      ]
     },
     "execution_count": 39,
     "metadata": {},
     "output_type": "execute_result"
    }
   ],
   "source": [
    "t.count(1000)"
   ]
  },
  {
   "cell_type": "code",
   "execution_count": null,
   "id": "e6436ef7",
   "metadata": {
    "ExecuteTime": {
     "end_time": "2022-11-08T05:22:11.994924Z",
     "start_time": "2022-11-08T05:22:11.981915Z"
    }
   },
   "outputs": [],
   "source": [
    "#Accessing elements from tuple"
   ]
  },
  {
   "cell_type": "code",
   "execution_count": 40,
   "id": "a913ba15",
   "metadata": {
    "ExecuteTime": {
     "end_time": "2022-11-24T05:26:57.392570Z",
     "start_time": "2022-11-24T05:26:57.360917Z"
    }
   },
   "outputs": [
    {
     "data": {
      "text/plain": [
       "15.2"
      ]
     },
     "execution_count": 40,
     "metadata": {},
     "output_type": "execute_result"
    }
   ],
   "source": [
    "t[4]"
   ]
  },
  {
   "cell_type": "code",
   "execution_count": 41,
   "id": "7363c49a",
   "metadata": {
    "ExecuteTime": {
     "end_time": "2022-11-24T05:27:20.410826Z",
     "start_time": "2022-11-24T05:27:20.393874Z"
    }
   },
   "outputs": [
    {
     "data": {
      "text/plain": [
       "('Hi', 1000, 15.2)"
      ]
     },
     "execution_count": 41,
     "metadata": {},
     "output_type": "execute_result"
    }
   ],
   "source": [
    "t[2:]"
   ]
  },
  {
   "cell_type": "code",
   "execution_count": null,
   "id": "bd50381a",
   "metadata": {
    "ExecuteTime": {
     "end_time": "2022-11-08T05:22:12.337426Z",
     "start_time": "2022-11-08T05:22:12.010953Z"
    }
   },
   "outputs": [],
   "source": [
    "#Replacing elements"
   ]
  },
  {
   "cell_type": "code",
   "execution_count": 42,
   "id": "9af3e5b9",
   "metadata": {
    "ExecuteTime": {
     "end_time": "2022-11-24T05:27:48.190739Z",
     "start_time": "2022-11-24T05:27:48.166942Z"
    }
   },
   "outputs": [
    {
     "data": {
      "text/plain": [
       "(10, 1.2, 'Hi', 1000, 15.2)"
      ]
     },
     "execution_count": 42,
     "metadata": {},
     "output_type": "execute_result"
    }
   ],
   "source": [
    "t"
   ]
  },
  {
   "cell_type": "code",
   "execution_count": 43,
   "id": "862e38c3",
   "metadata": {
    "ExecuteTime": {
     "end_time": "2022-11-24T05:28:01.943699Z",
     "start_time": "2022-11-24T05:28:01.927492Z"
    }
   },
   "outputs": [
    {
     "ename": "TypeError",
     "evalue": "'tuple' object does not support item assignment",
     "output_type": "error",
     "traceback": [
      "\u001b[1;31m---------------------------------------------------------------------------\u001b[0m",
      "\u001b[1;31mTypeError\u001b[0m                                 Traceback (most recent call last)",
      "\u001b[1;32m~\\AppData\\Local\\Temp\\ipykernel_71276\\3492199082.py\u001b[0m in \u001b[0;36m<module>\u001b[1;34m\u001b[0m\n\u001b[1;32m----> 1\u001b[1;33m \u001b[0mt\u001b[0m\u001b[1;33m[\u001b[0m\u001b[1;36m4\u001b[0m\u001b[1;33m]\u001b[0m \u001b[1;33m=\u001b[0m \u001b[1;36m200\u001b[0m\u001b[1;33m\u001b[0m\u001b[1;33m\u001b[0m\u001b[0m\n\u001b[0m",
      "\u001b[1;31mTypeError\u001b[0m: 'tuple' object does not support item assignment"
     ]
    }
   ],
   "source": [
    "t[4] = 200"
   ]
  },
  {
   "cell_type": "code",
   "execution_count": 44,
   "id": "68f34c47",
   "metadata": {
    "ExecuteTime": {
     "end_time": "2022-11-24T05:30:09.993789Z",
     "start_time": "2022-11-24T05:30:09.985559Z"
    }
   },
   "outputs": [
    {
     "data": {
      "text/plain": [
       "(10, 1.2, 'Hi', 1000, 15.2)"
      ]
     },
     "execution_count": 44,
     "metadata": {},
     "output_type": "execute_result"
    }
   ],
   "source": [
    "t"
   ]
  },
  {
   "cell_type": "code",
   "execution_count": 45,
   "id": "d1c38758",
   "metadata": {
    "ExecuteTime": {
     "end_time": "2022-11-24T05:30:23.516647Z",
     "start_time": "2022-11-24T05:30:23.499369Z"
    }
   },
   "outputs": [],
   "source": [
    "t = list(t)"
   ]
  },
  {
   "cell_type": "code",
   "execution_count": 46,
   "id": "0606a994",
   "metadata": {
    "ExecuteTime": {
     "end_time": "2022-11-24T05:30:26.983524Z",
     "start_time": "2022-11-24T05:30:26.959869Z"
    }
   },
   "outputs": [
    {
     "data": {
      "text/plain": [
       "list"
      ]
     },
     "execution_count": 46,
     "metadata": {},
     "output_type": "execute_result"
    }
   ],
   "source": [
    "type(t)"
   ]
  },
  {
   "cell_type": "code",
   "execution_count": 48,
   "id": "c1463d35",
   "metadata": {
    "ExecuteTime": {
     "end_time": "2022-11-24T05:30:43.064439Z",
     "start_time": "2022-11-24T05:30:43.046454Z"
    }
   },
   "outputs": [],
   "source": [
    "t[4] = 200"
   ]
  },
  {
   "cell_type": "code",
   "execution_count": 49,
   "id": "b020c463",
   "metadata": {
    "ExecuteTime": {
     "end_time": "2022-11-24T05:30:45.474526Z",
     "start_time": "2022-11-24T05:30:45.454271Z"
    }
   },
   "outputs": [
    {
     "data": {
      "text/plain": [
       "[10, 1.2, 'Hi', 1000, 200]"
      ]
     },
     "execution_count": 49,
     "metadata": {},
     "output_type": "execute_result"
    }
   ],
   "source": [
    "t"
   ]
  },
  {
   "cell_type": "code",
   "execution_count": 50,
   "id": "377b51f6",
   "metadata": {
    "ExecuteTime": {
     "end_time": "2022-11-24T05:30:58.190348Z",
     "start_time": "2022-11-24T05:30:58.169693Z"
    }
   },
   "outputs": [],
   "source": [
    "t = tuple(t)"
   ]
  },
  {
   "cell_type": "code",
   "execution_count": 51,
   "id": "2d6f786a",
   "metadata": {
    "ExecuteTime": {
     "end_time": "2022-11-24T05:31:00.208320Z",
     "start_time": "2022-11-24T05:31:00.190209Z"
    }
   },
   "outputs": [
    {
     "data": {
      "text/plain": [
       "(10, 1.2, 'Hi', 1000, 200)"
      ]
     },
     "execution_count": 51,
     "metadata": {},
     "output_type": "execute_result"
    }
   ],
   "source": [
    "t"
   ]
  },
  {
   "cell_type": "code",
   "execution_count": 52,
   "id": "c27083c7",
   "metadata": {
    "ExecuteTime": {
     "end_time": "2022-11-24T05:31:09.010449Z",
     "start_time": "2022-11-24T05:31:08.986063Z"
    }
   },
   "outputs": [
    {
     "data": {
      "text/plain": [
       "tuple"
      ]
     },
     "execution_count": 52,
     "metadata": {},
     "output_type": "execute_result"
    }
   ],
   "source": [
    "type(t)"
   ]
  },
  {
   "cell_type": "markdown",
   "id": "fb3d7af9",
   "metadata": {},
   "source": [
    "**Dictionary**\n",
    "\n",
    "- Python dictionaries are ordered collection of items.\n",
    "- Dictionary is mutable data structure.\n",
    "- It has key and value pair."
   ]
  },
  {
   "cell_type": "code",
   "execution_count": null,
   "id": "5a7874ad",
   "metadata": {
    "ExecuteTime": {
     "end_time": "2022-11-08T05:22:23.806543Z",
     "start_time": "2022-11-08T05:22:23.791603Z"
    }
   },
   "outputs": [],
   "source": [
    "#Creating an empty dictionary"
   ]
  },
  {
   "cell_type": "code",
   "execution_count": 53,
   "id": "027b0252",
   "metadata": {
    "ExecuteTime": {
     "end_time": "2022-11-24T05:35:27.102368Z",
     "start_time": "2022-11-24T05:35:27.082987Z"
    }
   },
   "outputs": [
    {
     "data": {
      "text/plain": [
       "dict"
      ]
     },
     "execution_count": 53,
     "metadata": {},
     "output_type": "execute_result"
    }
   ],
   "source": [
    "d = {}\n",
    "type(d)"
   ]
  },
  {
   "cell_type": "code",
   "execution_count": 54,
   "id": "a282f8f2",
   "metadata": {
    "ExecuteTime": {
     "end_time": "2022-11-24T05:35:40.881331Z",
     "start_time": "2022-11-24T05:35:40.874587Z"
    }
   },
   "outputs": [
    {
     "data": {
      "text/plain": [
       "dict"
      ]
     },
     "execution_count": 54,
     "metadata": {},
     "output_type": "execute_result"
    }
   ],
   "source": [
    "d1 = dict()\n",
    "type(d1)"
   ]
  },
  {
   "cell_type": "code",
   "execution_count": null,
   "id": "de8f6bcf",
   "metadata": {
    "ExecuteTime": {
     "end_time": "2022-11-08T05:22:24.533386Z",
     "start_time": "2022-11-08T05:22:24.519344Z"
    }
   },
   "outputs": [],
   "source": [
    "#Adding elements in a dictionary"
   ]
  },
  {
   "cell_type": "code",
   "execution_count": 55,
   "id": "c62f2131",
   "metadata": {
    "ExecuteTime": {
     "end_time": "2022-11-24T05:37:12.985856Z",
     "start_time": "2022-11-24T05:37:12.980192Z"
    }
   },
   "outputs": [],
   "source": [
    "d = {1:10,2:'A',3:True}"
   ]
  },
  {
   "cell_type": "code",
   "execution_count": 56,
   "id": "5ecfa864",
   "metadata": {
    "ExecuteTime": {
     "end_time": "2022-11-24T05:37:15.749782Z",
     "start_time": "2022-11-24T05:37:15.727653Z"
    }
   },
   "outputs": [
    {
     "data": {
      "text/plain": [
       "{1: 10, 2: 'A', 3: True}"
      ]
     },
     "execution_count": 56,
     "metadata": {},
     "output_type": "execute_result"
    }
   ],
   "source": [
    "d"
   ]
  },
  {
   "cell_type": "code",
   "execution_count": null,
   "id": "5639636a",
   "metadata": {
    "ExecuteTime": {
     "end_time": "2022-11-08T05:22:24.867659Z",
     "start_time": "2022-11-08T05:22:24.851398Z"
    }
   },
   "outputs": [],
   "source": [
    "#get"
   ]
  },
  {
   "cell_type": "code",
   "execution_count": 57,
   "id": "2cfa72e3",
   "metadata": {
    "ExecuteTime": {
     "end_time": "2022-11-24T05:37:40.778543Z",
     "start_time": "2022-11-24T05:37:40.760752Z"
    }
   },
   "outputs": [
    {
     "data": {
      "text/plain": [
       "'A'"
      ]
     },
     "execution_count": 57,
     "metadata": {},
     "output_type": "execute_result"
    }
   ],
   "source": [
    "d.get(2)"
   ]
  },
  {
   "cell_type": "code",
   "execution_count": null,
   "id": "fdeec872",
   "metadata": {
    "ExecuteTime": {
     "end_time": "2022-11-08T05:22:25.201476Z",
     "start_time": "2022-11-08T05:22:25.185884Z"
    }
   },
   "outputs": [],
   "source": [
    "#items"
   ]
  },
  {
   "cell_type": "code",
   "execution_count": 58,
   "id": "300c3556",
   "metadata": {
    "ExecuteTime": {
     "end_time": "2022-11-24T05:37:52.822678Z",
     "start_time": "2022-11-24T05:37:52.811629Z"
    },
    "scrolled": false
   },
   "outputs": [
    {
     "data": {
      "text/plain": [
       "dict_items([(1, 10), (2, 'A'), (3, True)])"
      ]
     },
     "execution_count": 58,
     "metadata": {},
     "output_type": "execute_result"
    }
   ],
   "source": [
    "d.items()"
   ]
  },
  {
   "cell_type": "code",
   "execution_count": null,
   "id": "65a60573",
   "metadata": {
    "ExecuteTime": {
     "end_time": "2022-11-08T05:22:25.389576Z",
     "start_time": "2022-11-08T05:22:25.370694Z"
    }
   },
   "outputs": [],
   "source": [
    "#keys"
   ]
  },
  {
   "cell_type": "code",
   "execution_count": 67,
   "id": "b7d5bcc1",
   "metadata": {
    "ExecuteTime": {
     "end_time": "2022-11-24T05:55:58.974357Z",
     "start_time": "2022-11-24T05:55:58.965285Z"
    }
   },
   "outputs": [
    {
     "data": {
      "text/plain": [
       "dict_keys([1, 2, 'car'])"
      ]
     },
     "execution_count": 67,
     "metadata": {},
     "output_type": "execute_result"
    }
   ],
   "source": [
    "d.keys()"
   ]
  },
  {
   "cell_type": "code",
   "execution_count": 60,
   "id": "093b715b",
   "metadata": {
    "ExecuteTime": {
     "end_time": "2022-11-24T05:38:47.428242Z",
     "start_time": "2022-11-24T05:38:47.411235Z"
    }
   },
   "outputs": [],
   "source": [
    "#Adding values in dictionary(update)\n",
    "d.update({'car':'bmw'})"
   ]
  },
  {
   "cell_type": "code",
   "execution_count": 61,
   "id": "d3f5e395",
   "metadata": {
    "ExecuteTime": {
     "end_time": "2022-11-24T05:38:48.779472Z",
     "start_time": "2022-11-24T05:38:48.758757Z"
    }
   },
   "outputs": [
    {
     "data": {
      "text/plain": [
       "{1: 10, 2: 'A', 3: True, 'car': 'bmw'}"
      ]
     },
     "execution_count": 61,
     "metadata": {},
     "output_type": "execute_result"
    }
   ],
   "source": [
    "d"
   ]
  },
  {
   "cell_type": "code",
   "execution_count": null,
   "id": "116a2fd3",
   "metadata": {
    "ExecuteTime": {
     "end_time": "2022-11-08T05:22:25.959828Z",
     "start_time": "2022-11-08T05:22:25.937270Z"
    }
   },
   "outputs": [],
   "source": [
    "#pop"
   ]
  },
  {
   "cell_type": "code",
   "execution_count": 63,
   "id": "911dd6c1",
   "metadata": {
    "ExecuteTime": {
     "end_time": "2022-11-24T05:40:18.917967Z",
     "start_time": "2022-11-24T05:40:18.905157Z"
    }
   },
   "outputs": [
    {
     "data": {
      "text/plain": [
       "True"
      ]
     },
     "execution_count": 63,
     "metadata": {},
     "output_type": "execute_result"
    }
   ],
   "source": [
    "d.pop(3)"
   ]
  },
  {
   "cell_type": "code",
   "execution_count": 64,
   "id": "31f071b3",
   "metadata": {
    "ExecuteTime": {
     "end_time": "2022-11-24T05:40:33.787164Z",
     "start_time": "2022-11-24T05:40:33.775922Z"
    }
   },
   "outputs": [
    {
     "data": {
      "text/plain": [
       "{1: 10, 2: 'A', 'car': 'bmw'}"
      ]
     },
     "execution_count": 64,
     "metadata": {},
     "output_type": "execute_result"
    }
   ],
   "source": [
    "d"
   ]
  },
  {
   "cell_type": "code",
   "execution_count": null,
   "id": "1e002393",
   "metadata": {
    "ExecuteTime": {
     "end_time": "2022-11-08T05:22:27.105897Z",
     "start_time": "2022-11-08T05:22:27.085858Z"
    }
   },
   "outputs": [],
   "source": [
    "#values"
   ]
  },
  {
   "cell_type": "code",
   "execution_count": 65,
   "id": "702021e4",
   "metadata": {
    "ExecuteTime": {
     "end_time": "2022-11-24T05:40:47.574735Z",
     "start_time": "2022-11-24T05:40:47.563673Z"
    }
   },
   "outputs": [
    {
     "data": {
      "text/plain": [
       "dict_values([10, 'A', 'bmw'])"
      ]
     },
     "execution_count": 65,
     "metadata": {},
     "output_type": "execute_result"
    }
   ],
   "source": [
    "d.values()"
   ]
  },
  {
   "cell_type": "markdown",
   "id": "da0825b4",
   "metadata": {},
   "source": [
    "**Set**\n",
    "\n",
    "- Set is a collection which is unordered,unindexed.\n",
    "- Set is immutable.\n",
    "- Sets are unordered, so you cannot be sure in which order the items will appear.\n",
    "- Sets do not allow duplicate values.\n",
    "- Once a set is created, you cannot change its items, but you can remove items and add new items.\n",
    "- As sets are unordered, they do not support indexing and slicing operations."
   ]
  },
  {
   "cell_type": "code",
   "execution_count": 73,
   "id": "f77bace1",
   "metadata": {
    "ExecuteTime": {
     "end_time": "2022-11-24T06:04:00.097943Z",
     "start_time": "2022-11-24T06:04:00.088973Z"
    }
   },
   "outputs": [
    {
     "data": {
      "text/plain": [
       "{1, 10.5, 2, 3, 'A'}"
      ]
     },
     "execution_count": 73,
     "metadata": {},
     "output_type": "execute_result"
    }
   ],
   "source": [
    "#creating an empty set\n",
    "\n",
    "s = {1,2,3,10.5,'A'}\n",
    "type(s)\n",
    "s"
   ]
  },
  {
   "cell_type": "code",
   "execution_count": 75,
   "id": "d5c148cf",
   "metadata": {
    "ExecuteTime": {
     "end_time": "2022-11-24T06:04:20.997039Z",
     "start_time": "2022-11-24T06:04:20.983254Z"
    }
   },
   "outputs": [
    {
     "data": {
      "text/plain": [
       "{1, 2, 3, 4, 5}"
      ]
     },
     "execution_count": 75,
     "metadata": {},
     "output_type": "execute_result"
    }
   ],
   "source": [
    "#Does not allow duplicate items\n",
    "s1 = {1,1,2,3,4,5}\n",
    "s1"
   ]
  },
  {
   "cell_type": "code",
   "execution_count": 76,
   "id": "c9db2f39",
   "metadata": {
    "ExecuteTime": {
     "end_time": "2022-11-24T06:04:48.795238Z",
     "start_time": "2022-11-24T06:04:48.772961Z"
    }
   },
   "outputs": [
    {
     "data": {
      "text/plain": [
       "{1, 10.5, 2, 3, 'A'}"
      ]
     },
     "execution_count": 76,
     "metadata": {},
     "output_type": "execute_result"
    }
   ],
   "source": [
    "s"
   ]
  },
  {
   "cell_type": "code",
   "execution_count": 87,
   "id": "037e0a3f",
   "metadata": {
    "ExecuteTime": {
     "end_time": "2022-11-24T06:13:49.077961Z",
     "start_time": "2022-11-24T06:13:49.060237Z"
    }
   },
   "outputs": [
    {
     "ename": "TypeError",
     "evalue": "'set' object is not subscriptable",
     "output_type": "error",
     "traceback": [
      "\u001b[1;31m---------------------------------------------------------------------------\u001b[0m",
      "\u001b[1;31mTypeError\u001b[0m                                 Traceback (most recent call last)",
      "\u001b[1;32m~\\AppData\\Local\\Temp\\ipykernel_71276\\3535854443.py\u001b[0m in \u001b[0;36m<module>\u001b[1;34m\u001b[0m\n\u001b[0;32m      1\u001b[0m \u001b[1;31m#Does not support indexing\u001b[0m\u001b[1;33m\u001b[0m\u001b[1;33m\u001b[0m\u001b[0m\n\u001b[1;32m----> 2\u001b[1;33m \u001b[0ms\u001b[0m\u001b[1;33m[\u001b[0m\u001b[1;36m1\u001b[0m\u001b[1;33m]\u001b[0m\u001b[1;33m\u001b[0m\u001b[1;33m\u001b[0m\u001b[0m\n\u001b[0m",
      "\u001b[1;31mTypeError\u001b[0m: 'set' object is not subscriptable"
     ]
    }
   ],
   "source": [
    "#Does not support indexing\n",
    "s[1]"
   ]
  },
  {
   "cell_type": "code",
   "execution_count": 80,
   "id": "e982d040",
   "metadata": {
    "ExecuteTime": {
     "end_time": "2022-11-24T06:06:05.572024Z",
     "start_time": "2022-11-24T06:06:05.557465Z"
    }
   },
   "outputs": [
    {
     "data": {
      "text/plain": [
       "{1, 10.5, 100, 2, 3, 'A'}"
      ]
     },
     "execution_count": 80,
     "metadata": {},
     "output_type": "execute_result"
    }
   ],
   "source": [
    "#Add\n",
    "s.add(100)\n",
    "s"
   ]
  },
  {
   "cell_type": "code",
   "execution_count": 81,
   "id": "8c391c81",
   "metadata": {
    "ExecuteTime": {
     "end_time": "2022-11-24T06:06:16.956173Z",
     "start_time": "2022-11-24T06:06:16.948609Z"
    }
   },
   "outputs": [],
   "source": [
    "a = {'apple','mango','cherry'}\n",
    "b = {'microsoft','google','cherry'}"
   ]
  },
  {
   "cell_type": "code",
   "execution_count": null,
   "id": "9ce516fe",
   "metadata": {
    "ExecuteTime": {
     "end_time": "2022-11-08T05:22:28.944927Z",
     "start_time": "2022-11-08T05:22:28.921609Z"
    }
   },
   "outputs": [],
   "source": [
    "#Difference"
   ]
  },
  {
   "cell_type": "code",
   "execution_count": 82,
   "id": "49bae41c",
   "metadata": {
    "ExecuteTime": {
     "end_time": "2022-11-24T06:06:37.481569Z",
     "start_time": "2022-11-24T06:06:37.457220Z"
    }
   },
   "outputs": [
    {
     "data": {
      "text/plain": [
       "{'apple', 'mango'}"
      ]
     },
     "execution_count": 82,
     "metadata": {},
     "output_type": "execute_result"
    }
   ],
   "source": [
    "a.difference(b)"
   ]
  },
  {
   "cell_type": "code",
   "execution_count": 83,
   "id": "dadd2143",
   "metadata": {
    "ExecuteTime": {
     "end_time": "2022-11-24T06:06:53.944453Z",
     "start_time": "2022-11-24T06:06:53.934910Z"
    }
   },
   "outputs": [
    {
     "data": {
      "text/plain": [
       "{'google', 'microsoft'}"
      ]
     },
     "execution_count": 83,
     "metadata": {},
     "output_type": "execute_result"
    }
   ],
   "source": [
    "b.difference(a)"
   ]
  },
  {
   "cell_type": "code",
   "execution_count": null,
   "id": "44760b14",
   "metadata": {},
   "outputs": [],
   "source": [
    "#intersection"
   ]
  },
  {
   "cell_type": "code",
   "execution_count": 84,
   "id": "f6bf3700",
   "metadata": {
    "ExecuteTime": {
     "end_time": "2022-11-24T06:07:23.627296Z",
     "start_time": "2022-11-24T06:07:23.604183Z"
    }
   },
   "outputs": [
    {
     "data": {
      "text/plain": [
       "{'cherry'}"
      ]
     },
     "execution_count": 84,
     "metadata": {},
     "output_type": "execute_result"
    }
   ],
   "source": [
    "a.intersection(b)"
   ]
  },
  {
   "cell_type": "code",
   "execution_count": null,
   "id": "124bfbb4",
   "metadata": {
    "ExecuteTime": {
     "end_time": "2022-11-08T05:22:29.351358Z",
     "start_time": "2022-11-08T05:22:29.327317Z"
    }
   },
   "outputs": [],
   "source": [
    "#union"
   ]
  },
  {
   "cell_type": "code",
   "execution_count": 85,
   "id": "23441104",
   "metadata": {
    "ExecuteTime": {
     "end_time": "2022-11-24T06:07:35.035140Z",
     "start_time": "2022-11-24T06:07:35.019181Z"
    }
   },
   "outputs": [
    {
     "data": {
      "text/plain": [
       "{'apple', 'cherry', 'google', 'mango', 'microsoft'}"
      ]
     },
     "execution_count": 85,
     "metadata": {},
     "output_type": "execute_result"
    }
   ],
   "source": [
    "a.union(b)"
   ]
  },
  {
   "cell_type": "code",
   "execution_count": null,
   "id": "de5eded3",
   "metadata": {
    "ExecuteTime": {
     "end_time": "2022-11-08T05:22:29.531807Z",
     "start_time": "2022-11-08T05:22:29.523810Z"
    }
   },
   "outputs": [],
   "source": [
    "#pop"
   ]
  },
  {
   "cell_type": "code",
   "execution_count": 86,
   "id": "a7c2f0aa",
   "metadata": {
    "ExecuteTime": {
     "end_time": "2022-11-24T06:07:57.181946Z",
     "start_time": "2022-11-24T06:07:57.166068Z"
    }
   },
   "outputs": [
    {
     "data": {
      "text/plain": [
       "'apple'"
      ]
     },
     "execution_count": 86,
     "metadata": {},
     "output_type": "execute_result"
    }
   ],
   "source": [
    "a.pop()"
   ]
  },
  {
   "cell_type": "code",
   "execution_count": null,
   "id": "b6acb209",
   "metadata": {},
   "outputs": [],
   "source": []
  }
 ],
 "metadata": {
  "_draft": {
   "nbviewer_url": "https://gist.github.com/c7e48d2b0f85e662ce272c77589a4f43"
  },
  "gist": {
   "data": {
    "description": "ExcelR/Python_Basics.ipynb",
    "public": true
   },
   "id": "c7e48d2b0f85e662ce272c77589a4f43"
  },
  "kernelspec": {
   "display_name": "Python 3 (ipykernel)",
   "language": "python",
   "name": "python3"
  },
  "language_info": {
   "codemirror_mode": {
    "name": "ipython",
    "version": 3
   },
   "file_extension": ".py",
   "mimetype": "text/x-python",
   "name": "python",
   "nbconvert_exporter": "python",
   "pygments_lexer": "ipython3",
   "version": "3.9.13"
  }
 },
 "nbformat": 4,
 "nbformat_minor": 5
}
